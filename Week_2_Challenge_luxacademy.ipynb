{
  "nbformat": 4,
  "nbformat_minor": 0,
  "metadata": {
    "colab": {
      "name": "Week 2 Challenge_luxacademy.ipynb",
      "provenance": [],
      "authorship_tag": "ABX9TyO//WwXqipaVo54EehJX61/",
      "include_colab_link": true
    },
    "kernelspec": {
      "name": "python3",
      "display_name": "Python 3"
    },
    "language_info": {
      "name": "python"
    }
  },
  "cells": [
    {
      "cell_type": "markdown",
      "metadata": {
        "id": "view-in-github",
        "colab_type": "text"
      },
      "source": [
        "<a href=\"https://colab.research.google.com/github/cngendo/Week-2-Lux-Academy/blob/main/Week_2_Challenge_luxacademy.ipynb\" target=\"_parent\"><img src=\"https://colab.research.google.com/assets/colab-badge.svg\" alt=\"Open In Colab\"/></a>"
      ]
    },
    {
      "cell_type": "code",
      "execution_count": 10,
      "metadata": {
        "colab": {
          "base_uri": "https://localhost:8080/"
        },
        "id": "bAR5j7Ps8izu",
        "outputId": "0e42e899-c6eb-45c5-f399-309a2c7ca8a1"
      },
      "outputs": [
        {
          "output_type": "stream",
          "name": "stdout",
          "text": [
            "Enter year:2002\n",
            "The year is not a leap year!\n"
          ]
        }
      ],
      "source": [
        "# get input from user\n",
        "year=int(input(\"Enter year:\"))\n",
        "\n",
        "\n",
        "if(year%4==0 and year%100!=0 or year%400==0):\n",
        "  print(\"The year is a leap year!\")\n",
        "else:\n",
        "  print(\"The year is not a leap year!\")"
      ]
    }
  ]
}